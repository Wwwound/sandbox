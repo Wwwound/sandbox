{
 "cells": [
  {
   "cell_type": "markdown",
   "metadata": {},
   "source": [
    "### 1. Loading Data"
   ]
  },
  {
   "cell_type": "code",
   "execution_count": 158,
   "metadata": {},
   "outputs": [],
   "source": [
    "import numpy as np\n",
    "import pandas as pd\n",
    "from sklearn.model_selection import train_test_split\n",
    "\n",
    "# input image dimensions\n",
    "img_rows, img_cols = 28, 28\n",
    "num_classes=10"
   ]
  },
  {
   "cell_type": "code",
   "execution_count": 159,
   "metadata": {},
   "outputs": [
    {
     "data": {
      "text/plain": [
       "((48000, 784), (12000, 784))"
      ]
     },
     "execution_count": 159,
     "metadata": {},
     "output_type": "execute_result"
    }
   ],
   "source": [
    "train_df = pd.read_csv('../data/mnist_train.csv', header=None)\n",
    "\n",
    "X_raw_train, X_raw_test, y_raw_train, y_raw_test = train_test_split(\n",
    "    train_df.iloc[:, 1:].values, train_df.iloc[:, 0].values,\n",
    "    stratify=train_df.iloc[:, 0].values,\n",
    "    train_size=0.8,\n",
    "    random_state=42\n",
    ")\n",
    "\n",
    "X_raw_train.shape, X_raw_test.shape"
   ]
  },
  {
   "cell_type": "markdown",
   "metadata": {},
   "source": [
    "### 2.1. Keras Convolution Net\n",
    "https://keras.io/examples/mnist_cnn/"
   ]
  },
  {
   "cell_type": "code",
   "execution_count": 160,
   "metadata": {},
   "outputs": [],
   "source": [
    "import keras"
   ]
  },
  {
   "cell_type": "code",
   "execution_count": 161,
   "metadata": {},
   "outputs": [],
   "source": [
    "from keras.models import Sequential\n",
    "from keras.layers import Dense, Dropout, Flatten\n",
    "from keras.layers import Conv2D, MaxPooling2D"
   ]
  },
  {
   "cell_type": "code",
   "execution_count": 162,
   "metadata": {},
   "outputs": [
    {
     "data": {
      "text/plain": [
       "((48000, 28, 28, 1), (12000, 28, 28, 1), (48000, 10), (12000, 10))"
      ]
     },
     "execution_count": 162,
     "metadata": {},
     "output_type": "execute_result"
    }
   ],
   "source": [
    "y_train = keras.utils.to_categorical(y_raw_train, num_classes)\n",
    "y_test = keras.utils.to_categorical(y_raw_test, num_classes)\n",
    "\n",
    "X_train = X_raw_train.astype('float64') / 255\n",
    "X_train = X_train.reshape(X_train.shape[0], img_rows, img_cols, 1)\n",
    "\n",
    "X_test = X_raw_test.astype('float64') / 255\n",
    "X_test = X_test.reshape(X_test.shape[0], img_rows, img_cols, 1)\n",
    "X_train.shape, X_test.shape, y_train.shape, y_test.shape"
   ]
  },
  {
   "cell_type": "code",
   "execution_count": 163,
   "metadata": {},
   "outputs": [],
   "source": [
    "model = Sequential()\n",
    "model.add(Conv2D(32, kernel_size=(3, 3),\n",
    "                 activation='relu',\n",
    "                 input_shape=(28, 28, 1)))\n",
    "model.add(Conv2D(64, (3, 3), activation='relu'))\n",
    "model.add(MaxPooling2D(pool_size=(2, 2)))\n",
    "model.add(Dropout(0.25))\n",
    "model.add(Flatten())\n",
    "model.add(Dense(128, activation='relu'))\n",
    "model.add(Dropout(0.5))\n",
    "model.add(Dense(num_classes, activation='softmax'))\n",
    "\n",
    "model.compile(loss=keras.losses.categorical_crossentropy,\n",
    "              optimizer=keras.optimizers.Adadelta(),\n",
    "              metrics=['accuracy'])"
   ]
  },
  {
   "cell_type": "code",
   "execution_count": 164,
   "metadata": {},
   "outputs": [
    {
     "name": "stdout",
     "output_type": "stream",
     "text": [
      "Train on 48000 samples, validate on 12000 samples\n",
      "Epoch 1/10\n",
      "48000/48000 [==============================] - 48s 1ms/step - loss: 0.3181 - accuracy: 0.9013 - val_loss: 0.0717 - val_accuracy: 0.9786\n",
      "Epoch 2/10\n",
      "48000/48000 [==============================] - 50s 1ms/step - loss: 0.0991 - accuracy: 0.9699 - val_loss: 0.0592 - val_accuracy: 0.9833\n",
      "Epoch 3/10\n",
      "48000/48000 [==============================] - 51s 1ms/step - loss: 0.0739 - accuracy: 0.9771 - val_loss: 0.0525 - val_accuracy: 0.9849\n",
      "Epoch 4/10\n",
      "48000/48000 [==============================] - 51s 1ms/step - loss: 0.0598 - accuracy: 0.9811 - val_loss: 0.0487 - val_accuracy: 0.9862\n",
      "Epoch 5/10\n",
      "48000/48000 [==============================] - 53s 1ms/step - loss: 0.0501 - accuracy: 0.9843 - val_loss: 0.0431 - val_accuracy: 0.9882\n",
      "Epoch 6/10\n",
      "48000/48000 [==============================] - 51s 1ms/step - loss: 0.0441 - accuracy: 0.9861 - val_loss: 0.0431 - val_accuracy: 0.9886\n",
      "Epoch 7/10\n",
      "48000/48000 [==============================] - 53s 1ms/step - loss: 0.0387 - accuracy: 0.9881 - val_loss: 0.0394 - val_accuracy: 0.9893\n",
      "Epoch 8/10\n",
      "48000/48000 [==============================] - 49s 1ms/step - loss: 0.0356 - accuracy: 0.9885 - val_loss: 0.0390 - val_accuracy: 0.9882\n",
      "Epoch 9/10\n",
      "48000/48000 [==============================] - 49s 1ms/step - loss: 0.0324 - accuracy: 0.9898 - val_loss: 0.0380 - val_accuracy: 0.9889\n",
      "Epoch 10/10\n",
      "48000/48000 [==============================] - 49s 1ms/step - loss: 0.0293 - accuracy: 0.9908 - val_loss: 0.0377 - val_accuracy: 0.9893\n",
      "CPU times: user 23min 29s, sys: 2min 44s, total: 26min 13s\n",
      "Wall time: 8min 24s\n"
     ]
    },
    {
     "data": {
      "text/plain": [
       "<keras.callbacks.callbacks.History at 0x148c2ea50>"
      ]
     },
     "execution_count": 164,
     "metadata": {},
     "output_type": "execute_result"
    }
   ],
   "source": [
    "%%time\n",
    "model.fit(X_train, y_train,\n",
    "          batch_size=128,\n",
    "          epochs=10,\n",
    "          verbose=1,\n",
    "          validation_data=(X_test, y_test))"
   ]
  },
  {
   "cell_type": "code",
   "execution_count": 165,
   "metadata": {},
   "outputs": [],
   "source": [
    "model.save('mnist.convnet.model')"
   ]
  },
  {
   "cell_type": "markdown",
   "metadata": {},
   "source": [
    "### 2.2. Keras Dense"
   ]
  },
  {
   "cell_type": "code",
   "execution_count": 166,
   "metadata": {},
   "outputs": [],
   "source": [
    "y_train = keras.utils.to_categorical(y_raw_train, num_classes)\n",
    "y_test = keras.utils.to_categorical(y_raw_test, num_classes)\n",
    "\n",
    "X_train = X_raw_train\n",
    "X_test = X_raw_test"
   ]
  },
  {
   "cell_type": "code",
   "execution_count": 167,
   "metadata": {},
   "outputs": [],
   "source": [
    "model = Sequential()\n",
    "model.add(Dense(512, input_shape=(784,), activation='relu'))\n",
    "model.add(Dropout(0.2))\n",
    "model.add(Dense(num_classes, activation='softmax'))\n",
    "\n",
    "model.compile(loss=keras.losses.categorical_crossentropy,\n",
    "              optimizer=keras.optimizers.Adadelta(),\n",
    "              metrics=['accuracy'])"
   ]
  },
  {
   "cell_type": "code",
   "execution_count": 168,
   "metadata": {
    "scrolled": false
   },
   "outputs": [
    {
     "name": "stdout",
     "output_type": "stream",
     "text": [
      "Train on 48000 samples, validate on 12000 samples\n",
      "Epoch 1/20\n",
      "48000/48000 [==============================] - 3s 52us/step - loss: 6.6343 - accuracy: 0.8692 - val_loss: 1.0552 - val_accuracy: 0.9280\n",
      "Epoch 2/20\n",
      "48000/48000 [==============================] - 2s 48us/step - loss: 0.7077 - accuracy: 0.9253 - val_loss: 0.4627 - val_accuracy: 0.9467\n",
      "Epoch 3/20\n",
      "48000/48000 [==============================] - 2s 48us/step - loss: 0.3814 - accuracy: 0.9429 - val_loss: 0.4295 - val_accuracy: 0.9501\n",
      "Epoch 4/20\n",
      "48000/48000 [==============================] - 2s 49us/step - loss: 0.2692 - accuracy: 0.9544 - val_loss: 0.3910 - val_accuracy: 0.9557\n",
      "Epoch 5/20\n",
      "48000/48000 [==============================] - 3s 53us/step - loss: 0.2284 - accuracy: 0.9629 - val_loss: 0.3647 - val_accuracy: 0.9603\n",
      "Epoch 6/20\n",
      "48000/48000 [==============================] - 2s 48us/step - loss: 0.1745 - accuracy: 0.9690 - val_loss: 0.3754 - val_accuracy: 0.9607\n",
      "Epoch 7/20\n",
      "48000/48000 [==============================] - 2s 48us/step - loss: 0.1567 - accuracy: 0.9723 - val_loss: 0.3187 - val_accuracy: 0.9669\n",
      "Epoch 8/20\n",
      "48000/48000 [==============================] - 2s 49us/step - loss: 0.1385 - accuracy: 0.9749 - val_loss: 0.3754 - val_accuracy: 0.9647\n",
      "Epoch 9/20\n",
      "48000/48000 [==============================] - 2s 50us/step - loss: 0.1233 - accuracy: 0.9785 - val_loss: 0.3443 - val_accuracy: 0.9667\n",
      "Epoch 10/20\n",
      "48000/48000 [==============================] - 2s 45us/step - loss: 0.1103 - accuracy: 0.9806 - val_loss: 0.3414 - val_accuracy: 0.9684\n",
      "Epoch 11/20\n",
      "48000/48000 [==============================] - 2s 44us/step - loss: 0.1067 - accuracy: 0.9819 - val_loss: 0.3742 - val_accuracy: 0.9688\n",
      "Epoch 12/20\n",
      "48000/48000 [==============================] - 2s 45us/step - loss: 0.0932 - accuracy: 0.9837 - val_loss: 0.3589 - val_accuracy: 0.9714\n",
      "Epoch 13/20\n",
      "48000/48000 [==============================] - 2s 49us/step - loss: 0.0975 - accuracy: 0.9835 - val_loss: 0.3767 - val_accuracy: 0.9701\n",
      "Epoch 14/20\n",
      "48000/48000 [==============================] - 2s 44us/step - loss: 0.0918 - accuracy: 0.9841 - val_loss: 0.3760 - val_accuracy: 0.9711\n",
      "Epoch 15/20\n",
      "48000/48000 [==============================] - 2s 44us/step - loss: 0.0819 - accuracy: 0.9857 - val_loss: 0.3410 - val_accuracy: 0.9732\n",
      "Epoch 16/20\n",
      "48000/48000 [==============================] - 2s 44us/step - loss: 0.0779 - accuracy: 0.9865 - val_loss: 0.3559 - val_accuracy: 0.9733\n",
      "Epoch 17/20\n",
      "48000/48000 [==============================] - 2s 44us/step - loss: 0.0711 - accuracy: 0.9878 - val_loss: 0.3808 - val_accuracy: 0.9710\n",
      "Epoch 18/20\n",
      "48000/48000 [==============================] - 2s 45us/step - loss: 0.0660 - accuracy: 0.9884 - val_loss: 0.3870 - val_accuracy: 0.9738\n",
      "Epoch 19/20\n",
      "48000/48000 [==============================] - 2s 45us/step - loss: 0.0689 - accuracy: 0.9896 - val_loss: 0.3639 - val_accuracy: 0.9759\n",
      "Epoch 20/20\n",
      "48000/48000 [==============================] - 2s 44us/step - loss: 0.0683 - accuracy: 0.9893 - val_loss: 0.3953 - val_accuracy: 0.9732\n",
      "CPU times: user 1min 44s, sys: 10.7 s, total: 1min 55s\n",
      "Wall time: 45.4 s\n"
     ]
    },
    {
     "data": {
      "text/plain": [
       "<keras.callbacks.callbacks.History at 0x146e88d50>"
      ]
     },
     "execution_count": 168,
     "metadata": {},
     "output_type": "execute_result"
    }
   ],
   "source": [
    "%%time\n",
    "model.fit(X_raw_train, y_train,\n",
    "          batch_size=128,\n",
    "          epochs=20,\n",
    "          verbose=1,\n",
    "          validation_data=(X_raw_test, y_test))"
   ]
  },
  {
   "cell_type": "code",
   "execution_count": 169,
   "metadata": {},
   "outputs": [],
   "source": [
    "model.save('mnist.dense512.model')"
   ]
  },
  {
   "cell_type": "markdown",
   "metadata": {},
   "source": [
    "### 2.3. Keras Deep"
   ]
  },
  {
   "cell_type": "code",
   "execution_count": 170,
   "metadata": {},
   "outputs": [],
   "source": [
    "y_train = keras.utils.to_categorical(y_raw_train, num_classes)\n",
    "y_test = keras.utils.to_categorical(y_raw_test, num_classes)\n",
    "\n",
    "X_train = X_raw_train\n",
    "X_test = X_test"
   ]
  },
  {
   "cell_type": "code",
   "execution_count": 171,
   "metadata": {},
   "outputs": [],
   "source": [
    "model = Sequential()\n",
    "model.add(Dense(512, input_dim=784, activation='relu'))\n",
    "model.add(Dropout(0.2))\n",
    "model.add(Dense(512, activation='relu'))\n",
    "model.add(Dropout(0.2))\n",
    "model.add(Dense(512, activation='sigmoid'))\n",
    "model.add(Dropout(0.2))\n",
    "model.add(Dense(num_classes, activation='softmax'))\n",
    "\n",
    "model.compile(loss=keras.losses.categorical_crossentropy,\n",
    "              optimizer=keras.optimizers.Adadelta(),\n",
    "              metrics=['accuracy'])"
   ]
  },
  {
   "cell_type": "code",
   "execution_count": 172,
   "metadata": {},
   "outputs": [
    {
     "name": "stdout",
     "output_type": "stream",
     "text": [
      "Train on 48000 samples, validate on 12000 samples\n",
      "Epoch 1/12\n",
      "48000/48000 [==============================] - 6s 115us/step - loss: 0.4950 - accuracy: 0.8447 - val_loss: 0.2065 - val_accuracy: 0.9385\n",
      "Epoch 2/12\n",
      "48000/48000 [==============================] - 5s 113us/step - loss: 0.2181 - accuracy: 0.9335 - val_loss: 0.1558 - val_accuracy: 0.9532\n",
      "Epoch 3/12\n",
      "48000/48000 [==============================] - 6s 133us/step - loss: 0.1633 - accuracy: 0.9506 - val_loss: 0.1275 - val_accuracy: 0.9634\n",
      "Epoch 4/12\n",
      "48000/48000 [==============================] - 6s 129us/step - loss: 0.1347 - accuracy: 0.9591 - val_loss: 0.1258 - val_accuracy: 0.9643\n",
      "Epoch 5/12\n",
      "48000/48000 [==============================] - 5s 114us/step - loss: 0.1112 - accuracy: 0.9667 - val_loss: 0.1097 - val_accuracy: 0.9715\n",
      "Epoch 6/12\n",
      "48000/48000 [==============================] - 5s 115us/step - loss: 0.1025 - accuracy: 0.9683 - val_loss: 0.0999 - val_accuracy: 0.9705\n",
      "Epoch 7/12\n",
      "48000/48000 [==============================] - 6s 126us/step - loss: 0.0880 - accuracy: 0.9741 - val_loss: 0.0932 - val_accuracy: 0.9755\n",
      "Epoch 8/12\n",
      "48000/48000 [==============================] - 6s 122us/step - loss: 0.0755 - accuracy: 0.9764 - val_loss: 0.0898 - val_accuracy: 0.9753\n",
      "Epoch 9/12\n",
      "48000/48000 [==============================] - 5s 113us/step - loss: 0.0667 - accuracy: 0.9792 - val_loss: 0.0924 - val_accuracy: 0.9748\n",
      "Epoch 10/12\n",
      "48000/48000 [==============================] - 6s 115us/step - loss: 0.0648 - accuracy: 0.9803 - val_loss: 0.0973 - val_accuracy: 0.9758\n",
      "Epoch 11/12\n",
      "48000/48000 [==============================] - 6s 121us/step - loss: 0.0586 - accuracy: 0.9827 - val_loss: 0.0944 - val_accuracy: 0.9772\n",
      "Epoch 12/12\n",
      "48000/48000 [==============================] - 5s 113us/step - loss: 0.0517 - accuracy: 0.9843 - val_loss: 0.0881 - val_accuracy: 0.9778\n",
      "CPU times: user 2min 42s, sys: 24.1 s, total: 3min 6s\n",
      "Wall time: 1min 9s\n"
     ]
    },
    {
     "data": {
      "text/plain": [
       "<keras.callbacks.callbacks.History at 0x148c2eb10>"
      ]
     },
     "execution_count": 172,
     "metadata": {},
     "output_type": "execute_result"
    }
   ],
   "source": [
    "%%time\n",
    "model.fit(X_train, y_train,\n",
    "          batch_size=128,\n",
    "          epochs=12,\n",
    "          verbose=1,\n",
    "          validation_data=(X_test, y_test))"
   ]
  },
  {
   "cell_type": "code",
   "execution_count": 173,
   "metadata": {},
   "outputs": [],
   "source": [
    "model.save('mnist.deep.dense.model')"
   ]
  },
  {
   "cell_type": "markdown",
   "metadata": {},
   "source": [
    "### 3. Проверка сохраненной модели"
   ]
  },
  {
   "cell_type": "markdown",
   "metadata": {},
   "source": [
    "#### Keras ConvNet Example"
   ]
  },
  {
   "cell_type": "code",
   "execution_count": 174,
   "metadata": {},
   "outputs": [],
   "source": [
    "from keras.models import load_model\n",
    "from sklearn.metrics import accuracy_score"
   ]
  },
  {
   "cell_type": "code",
   "execution_count": 175,
   "metadata": {},
   "outputs": [
    {
     "data": {
      "text/plain": [
       "((10000, 784), (10000,))"
      ]
     },
     "execution_count": 175,
     "metadata": {},
     "output_type": "execute_result"
    }
   ],
   "source": [
    "test_model = load_model('mnist.convnet.model')\n",
    "\n",
    "test_df = pd.read_csv('../data/mnist_test.csv', header=None)\n",
    "y_holdout = test_df.iloc[:, 0].values\n",
    "X_holdout = test_df.iloc[:, 1:].values\n",
    "X_holdout.shape, y_holdout.shape"
   ]
  },
  {
   "cell_type": "code",
   "execution_count": 176,
   "metadata": {},
   "outputs": [],
   "source": [
    "X_holdout = X_holdout.astype('float64') / 255\n",
    "X_holdout = X_holdout.reshape(X_holdout.shape[0], 28, 28, 1)\n",
    "\n",
    "y_pred = test_model.predict_classes(X_holdout)"
   ]
  },
  {
   "cell_type": "code",
   "execution_count": 177,
   "metadata": {},
   "outputs": [
    {
     "data": {
      "text/plain": [
       "0.9915"
      ]
     },
     "execution_count": 177,
     "metadata": {},
     "output_type": "execute_result"
    }
   ],
   "source": [
    "accuracy_score(y_holdout, y_pred)"
   ]
  },
  {
   "cell_type": "markdown",
   "metadata": {},
   "source": [
    "#### One Dense"
   ]
  },
  {
   "cell_type": "code",
   "execution_count": 178,
   "metadata": {},
   "outputs": [
    {
     "data": {
      "text/plain": [
       "((10000, 784), (10000,))"
      ]
     },
     "execution_count": 178,
     "metadata": {},
     "output_type": "execute_result"
    }
   ],
   "source": [
    "test_model = load_model('mnist.dense512.model')\n",
    "\n",
    "test_df = pd.read_csv('../data/mnist_test.csv', header=None)\n",
    "y_holdout = test_df.iloc[:, 0].values\n",
    "X_holdout = test_df.iloc[:, 1:].values\n",
    "X_holdout.shape, y_holdout.shape"
   ]
  },
  {
   "cell_type": "code",
   "execution_count": 179,
   "metadata": {},
   "outputs": [],
   "source": [
    "y_pred = test_model.predict_classes(X_holdout)"
   ]
  },
  {
   "cell_type": "code",
   "execution_count": 180,
   "metadata": {},
   "outputs": [
    {
     "data": {
      "text/plain": [
       "0.9711"
      ]
     },
     "execution_count": 180,
     "metadata": {},
     "output_type": "execute_result"
    }
   ],
   "source": [
    "accuracy_score(y_holdout, y_pred)"
   ]
  },
  {
   "cell_type": "markdown",
   "metadata": {},
   "source": [
    "#### Deep Dense"
   ]
  },
  {
   "cell_type": "code",
   "execution_count": 181,
   "metadata": {},
   "outputs": [
    {
     "data": {
      "text/plain": [
       "((10000, 784), (10000,))"
      ]
     },
     "execution_count": 181,
     "metadata": {},
     "output_type": "execute_result"
    }
   ],
   "source": [
    "test_model = load_model('mnist.deep.dense.model')\n",
    "\n",
    "test_df = pd.read_csv('../data/mnist_test.csv', header=None)\n",
    "y_holdout = test_df.iloc[:, 0].values\n",
    "X_holdout = test_df.iloc[:, 1:].values\n",
    "X_holdout.shape, y_holdout.shape"
   ]
  },
  {
   "cell_type": "code",
   "execution_count": 182,
   "metadata": {},
   "outputs": [],
   "source": [
    "y_pred = test_model.predict_classes(X_holdout)"
   ]
  },
  {
   "cell_type": "code",
   "execution_count": 183,
   "metadata": {},
   "outputs": [
    {
     "data": {
      "text/plain": [
       "0.9801"
      ]
     },
     "execution_count": 183,
     "metadata": {},
     "output_type": "execute_result"
    }
   ],
   "source": [
    "accuracy_score(y_holdout, y_pred)"
   ]
  }
 ],
 "metadata": {
  "kernelspec": {
   "display_name": "Python 2",
   "language": "python",
   "name": "python2"
  },
  "language_info": {
   "codemirror_mode": {
    "name": "ipython",
    "version": 2
   },
   "file_extension": ".py",
   "mimetype": "text/x-python",
   "name": "python",
   "nbconvert_exporter": "python",
   "pygments_lexer": "ipython2",
   "version": "2.7.16"
  }
 },
 "nbformat": 4,
 "nbformat_minor": 2
}
